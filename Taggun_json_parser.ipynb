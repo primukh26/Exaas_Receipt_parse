{
 "cells": [
  {
   "cell_type": "code",
   "execution_count": 1,
   "metadata": {},
   "outputs": [],
   "source": [
    "import json\n",
    "import pandas as pd\n",
    "from pandas.io.json import json_normalize\n",
    "import glob, os"
   ]
  },
  {
   "cell_type": "code",
   "execution_count": 57,
   "metadata": {},
   "outputs": [],
   "source": [
    "dd = []"
   ]
  },
  {
   "cell_type": "code",
   "execution_count": 58,
   "metadata": {},
   "outputs": [],
   "source": [
    "for file in glob.glob(\"*.json\"):\n",
    "    filename = file\n",
    "    #print(filename)\n",
    "    f = open(filename,) \n",
    "    dt = json.load(f) \n",
    "    dt['filename']=filename\n",
    "    dd.append(dt)"
   ]
  },
  {
   "cell_type": "code",
   "execution_count": 72,
   "metadata": {},
   "outputs": [],
   "source": [
    "#dd"
   ]
  },
  {
   "cell_type": "code",
   "execution_count": 64,
   "metadata": {},
   "outputs": [],
   "source": [
    "new = pd.DataFrame.from_dict(dd)"
   ]
  },
  {
   "cell_type": "code",
   "execution_count": 71,
   "metadata": {},
   "outputs": [],
   "source": [
    "#new"
   ]
  },
  {
   "cell_type": "code",
   "execution_count": 70,
   "metadata": {},
   "outputs": [],
   "source": [
    "#pd.json_normalize(new['totalAmount'])"
   ]
  },
  {
   "cell_type": "code",
   "execution_count": 67,
   "metadata": {},
   "outputs": [],
   "source": [
    "new['totalAmount']=pd.json_normalize(new['totalAmount'])\n",
    "new['taxAmount']=pd.json_normalize(new['taxAmount'])\n",
    "#new['confidenceLevel'].apply(pd.Series)\n",
    "new['date']=pd.json_normalize(new['date'])\n",
    "new['merchantName']=pd.json_normalize(new['merchantName'])\n",
    "new['merchantAddress']=pd.json_normalize(new['merchantAddress'])\n",
    "new['merchantCity']=pd.json_normalize(new['merchantCity'])\n",
    "new['merchantState']=pd.json_normalize(new['merchantState'])\n",
    "new['merchantCountryCode']=pd.json_normalize(new['merchantCountryCode'])\n",
    "new['merchantPostalCode']=pd.json_normalize(new['merchantPostalCode'])\n",
    "new['merchantTypes']=pd.json_normalize(new['merchantTypes'])"
   ]
  },
  {
   "cell_type": "code",
   "execution_count": 69,
   "metadata": {},
   "outputs": [],
   "source": [
    "new.to_csv(\"Taggu.csv\")"
   ]
  },
  {
   "cell_type": "code",
   "execution_count": null,
   "metadata": {},
   "outputs": [],
   "source": []
  }
 ],
 "metadata": {
  "kernelspec": {
   "display_name": "Python 3",
   "language": "python",
   "name": "python3"
  },
  "language_info": {
   "codemirror_mode": {
    "name": "ipython",
    "version": 3
   },
   "file_extension": ".py",
   "mimetype": "text/x-python",
   "name": "python",
   "nbconvert_exporter": "python",
   "pygments_lexer": "ipython3",
   "version": "3.8.3"
  }
 },
 "nbformat": 4,
 "nbformat_minor": 4
}
